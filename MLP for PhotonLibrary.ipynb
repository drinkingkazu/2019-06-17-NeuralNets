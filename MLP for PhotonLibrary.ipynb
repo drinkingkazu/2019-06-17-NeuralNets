{
 "cells": [
  {
   "cell_type": "markdown",
   "metadata": {},
   "source": [
    "# PhotonLibrary + MLP\n",
    "**This notebook: [see on github](https://github.com/drinkingkazu/2019-06-17-Notebooks/blob/master/MLP%20for%20PhotonLibrary.ipynb) or [run it on google colab](https://colab.research.google.com/github/drinkingkazu/2019-06-17-Notebooks/blob/master/MLP%20for%20PhotonLibrary.ipynb)**.\n",
    "\n",
    "A photon library is a look-up map for a LArTPC detector. Provided (x,y,z) position, a photon library provides a probability of detecting a photon by individual PMT. Why do we use a photon library? Because simulation of individual photon propagation requires ray tracing, and it is hard to use a parametric function for approximation due to stochastic physics processes (scattering) and often a complicated detector geometry (field cage, anode wires, cryostat, etc.). A downside of using a photon library is the memory as it needs to hold infomration of probability per PMT (floating point value * PMT counts) for every single voxelized volume in the detector.\n",
    "\n",
    "An alternative method to a photon library is a neural network, which is good at function approximation. This notebook is an attempt to emulate a photon library with MLP."
   ]
  },
  {
   "cell_type": "code",
   "execution_count": 1,
   "metadata": {},
   "outputs": [
    {
     "name": "stdout",
     "output_type": "stream",
     "text": [
      "Already up to date.\r\n",
      "/scratch/kterao/ml_at_slac/2019-06-17-NeuralNets/2019-06-17-Notebooks\r\n"
     ]
    }
   ],
   "source": [
    "from __future__ import print_function\n",
    "import matplotlib\n",
    "%matplotlib inline\n",
    "import torch\n",
    "import numpy as np\n",
    "SEED=123\n",
    "_=np.random.seed(SEED)\n",
    "_=torch.manual_seed(SEED)\n",
    "\n",
    "! [ -d kworkshop ] || git clone -b 2019-06-17-NeuralNets https://github.com/drinkingkazu/kworkshop\n",
    "! cd kworkshop && git pull && cd -"
   ]
  },
  {
   "cell_type": "markdown",
   "metadata": {},
   "source": [
    "Instantiate a photon library"
   ]
  },
  {
   "cell_type": "code",
   "execution_count": 2,
   "metadata": {},
   "outputs": [],
   "source": [
    "from kworkshop.utils import PhotonLibrary\n",
    "plib=PhotonLibrary()"
   ]
  }
 ],
 "metadata": {
  "kernelspec": {
   "display_name": "Python 3",
   "language": "python",
   "name": "python3"
  },
  "language_info": {
   "codemirror_mode": {
    "name": "ipython",
    "version": 3
   },
   "file_extension": ".py",
   "mimetype": "text/x-python",
   "name": "python",
   "nbconvert_exporter": "python",
   "pygments_lexer": "ipython3",
   "version": "3.6.7"
  }
 },
 "nbformat": 4,
 "nbformat_minor": 2
}
